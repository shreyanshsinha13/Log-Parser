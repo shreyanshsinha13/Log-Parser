{
 "cells": [
  {
   "cell_type": "code",
   "execution_count": 100,
   "metadata": {},
   "outputs": [],
   "source": [
    "import pandas as pd\n"
   ]
  },
  {
   "cell_type": "markdown",
   "metadata": {},
   "source": [
    "[06]0004.80E4::2022-12-18 16:21:28.844202100 [Microsoft-Windows-PktMon] PktGroupId 1688849860264055, PktNumber 1, Appearance 8, Direction Rx , Type WiFi , Component 28, Edge 2, Filter 0, OriginalSize 284, LoggedSize 128 \n",
    "\tCF Ack/Poll RA:37-5C-72-9F-A9-2C TA:92-0B-08-00-45-00 DA:37-5C-72-9F-A9-2C SA:92-0B-08-00-45-00 "
   ]
  },
  {
   "cell_type": "code",
   "execution_count": 150,
   "metadata": {},
   "outputs": [],
   "source": [
    "fieldnames = ['PktGroupId', 'PktNumber', 'Appearance', 'Direction', 'Type', 'Component', 'Edge', 'Filter', 'OriginalSize', 'LoggedSize']"
   ]
  },
  {
   "cell_type": "code",
   "execution_count": 171,
   "metadata": {},
   "outputs": [],
   "source": [
    "arr = []\n",
    "with open('PktMon.txt') as file:\n",
    "    lines = file.readlines()\n",
    "    for line in lines:\n",
    "        pairs = str.replace(line,'\\x00',\"\",-1).split(',')\n",
    "        if len(pairs) == 10:\n",
    "            dict = {}\n",
    "            for pair in pairs:\n",
    "                words = pair.split()\n",
    "                key = -1\n",
    "                value = -1\n",
    "                if len(words) == 2:\n",
    "                    key = words[0]\n",
    "                    value = words[1]\n",
    "                if pair.find('PktGroupId') != -1:\n",
    "                    # dict[words[-2]] = words[-1]\n",
    "                    key = words[-2]\n",
    "                    value = words[-1]\n",
    "                if key != - 1 and fieldnames.count(key):\n",
    "                    dict[key] = value\n",
    "            if list(dict.keys()) == fieldnames:    \n",
    "                arr.append(dict)\n",
    "            # print(dict)\n",
    "            # break\n",
    "            "
   ]
  },
  {
   "cell_type": "code",
   "execution_count": 166,
   "metadata": {},
   "outputs": [
    {
     "name": "stdout",
     "output_type": "stream",
     "text": [
      "{'PktGroupId': '1407374883553425', 'PktNumber': '1', 'Appearance': '3', 'Direction': 'Rx', 'Type': 'WiFi', 'Component': '31', 'Edge': '1', 'Filter': '0', 'OriginalSize': '106', 'LoggedSize': '106'}\n"
     ]
    }
   ],
   "source": [
    "print(arr[2])"
   ]
  },
  {
   "cell_type": "code",
   "execution_count": 172,
   "metadata": {},
   "outputs": [],
   "source": [
    "df = pd.DataFrame(arr)"
   ]
  },
  {
   "cell_type": "code",
   "execution_count": 173,
   "metadata": {},
   "outputs": [
    {
     "data": {
      "text/html": [
       "<div>\n",
       "<style scoped>\n",
       "    .dataframe tbody tr th:only-of-type {\n",
       "        vertical-align: middle;\n",
       "    }\n",
       "\n",
       "    .dataframe tbody tr th {\n",
       "        vertical-align: top;\n",
       "    }\n",
       "\n",
       "    .dataframe thead th {\n",
       "        text-align: right;\n",
       "    }\n",
       "</style>\n",
       "<table border=\"1\" class=\"dataframe\">\n",
       "  <thead>\n",
       "    <tr style=\"text-align: right;\">\n",
       "      <th></th>\n",
       "      <th>PktGroupId</th>\n",
       "      <th>PktNumber</th>\n",
       "      <th>Appearance</th>\n",
       "      <th>Direction</th>\n",
       "      <th>Type</th>\n",
       "      <th>Component</th>\n",
       "      <th>Edge</th>\n",
       "      <th>Filter</th>\n",
       "      <th>OriginalSize</th>\n",
       "      <th>LoggedSize</th>\n",
       "    </tr>\n",
       "  </thead>\n",
       "  <tbody>\n",
       "    <tr>\n",
       "      <th>0</th>\n",
       "      <td>562949953421313</td>\n",
       "      <td>1</td>\n",
       "      <td>1</td>\n",
       "      <td>Rx</td>\n",
       "      <td>WiFi</td>\n",
       "      <td>3</td>\n",
       "      <td>1</td>\n",
       "      <td>0</td>\n",
       "      <td>107</td>\n",
       "      <td>107</td>\n",
       "    </tr>\n",
       "    <tr>\n",
       "      <th>1</th>\n",
       "      <td>562949953421313</td>\n",
       "      <td>1</td>\n",
       "      <td>2</td>\n",
       "      <td>Rx</td>\n",
       "      <td>WiFi</td>\n",
       "      <td>31</td>\n",
       "      <td>2</td>\n",
       "      <td>0</td>\n",
       "      <td>107</td>\n",
       "      <td>107</td>\n",
       "    </tr>\n",
       "    <tr>\n",
       "      <th>2</th>\n",
       "      <td>562949953421313</td>\n",
       "      <td>1</td>\n",
       "      <td>3</td>\n",
       "      <td>Rx</td>\n",
       "      <td>WiFi</td>\n",
       "      <td>31</td>\n",
       "      <td>1</td>\n",
       "      <td>0</td>\n",
       "      <td>107</td>\n",
       "      <td>107</td>\n",
       "    </tr>\n",
       "    <tr>\n",
       "      <th>3</th>\n",
       "      <td>562949953421313</td>\n",
       "      <td>1</td>\n",
       "      <td>4</td>\n",
       "      <td>Rx</td>\n",
       "      <td>WiFi</td>\n",
       "      <td>30</td>\n",
       "      <td>2</td>\n",
       "      <td>0</td>\n",
       "      <td>107</td>\n",
       "      <td>107</td>\n",
       "    </tr>\n",
       "    <tr>\n",
       "      <th>4</th>\n",
       "      <td>562949953421313</td>\n",
       "      <td>1</td>\n",
       "      <td>5</td>\n",
       "      <td>Rx</td>\n",
       "      <td>WiFi</td>\n",
       "      <td>30</td>\n",
       "      <td>1</td>\n",
       "      <td>0</td>\n",
       "      <td>107</td>\n",
       "      <td>107</td>\n",
       "    </tr>\n",
       "  </tbody>\n",
       "</table>\n",
       "</div>"
      ],
      "text/plain": [
       "        PktGroupId PktNumber Appearance Direction  Type Component Edge Filter  \\\n",
       "0  562949953421313         1          1        Rx  WiFi         3    1      0   \n",
       "1  562949953421313         1          2        Rx  WiFi        31    2      0   \n",
       "2  562949953421313         1          3        Rx  WiFi        31    1      0   \n",
       "3  562949953421313         1          4        Rx  WiFi        30    2      0   \n",
       "4  562949953421313         1          5        Rx  WiFi        30    1      0   \n",
       "\n",
       "  OriginalSize LoggedSize  \n",
       "0          107        107  \n",
       "1          107        107  \n",
       "2          107        107  \n",
       "3          107        107  \n",
       "4          107        107  "
      ]
     },
     "execution_count": 173,
     "metadata": {},
     "output_type": "execute_result"
    }
   ],
   "source": [
    "df.head()"
   ]
  },
  {
   "cell_type": "code",
   "execution_count": 170,
   "metadata": {},
   "outputs": [],
   "source": [
    "df.to_csv('out.csv')"
   ]
  }
 ],
 "metadata": {
  "kernelspec": {
   "display_name": "Python 3.10.0 64-bit",
   "language": "python",
   "name": "python3"
  },
  "language_info": {
   "codemirror_mode": {
    "name": "ipython",
    "version": 3
   },
   "file_extension": ".py",
   "mimetype": "text/x-python",
   "name": "python",
   "nbconvert_exporter": "python",
   "pygments_lexer": "ipython3",
   "version": "3.10.0"
  },
  "orig_nbformat": 4,
  "vscode": {
   "interpreter": {
    "hash": "26de051ba29f2982a8de78e945f0abaf191376122a1563185a90213a26c5da77"
   }
  }
 },
 "nbformat": 4,
 "nbformat_minor": 2
}
